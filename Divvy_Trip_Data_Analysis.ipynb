{
  "nbformat": 4,
  "nbformat_minor": 0,
  "metadata": {
    "colab": {
      "name": "Divvy Trip Data Analysis.ipynb",
      "provenance": [],
      "collapsed_sections": [],
      "authorship_tag": "ABX9TyN+ikTGJn6IW4V0ilbb6lRw",
      "include_colab_link": true
    },
    "kernelspec": {
      "name": "python3",
      "display_name": "Python 3"
    },
    "language_info": {
      "name": "python"
    }
  },
  "cells": [
    {
      "cell_type": "markdown",
      "metadata": {
        "id": "view-in-github",
        "colab_type": "text"
      },
      "source": [
        "<a href=\"https://colab.research.google.com/github/LydP/Divvy-Bike-Share-Data-Analysis/blob/main/Divvy_Trip_Data_Analysis.ipynb\" target=\"_parent\"><img src=\"https://colab.research.google.com/assets/colab-badge.svg\" alt=\"Open In Colab\"/></a>"
      ]
    },
    {
      "cell_type": "markdown",
      "metadata": {
        "id": "QGbuYHDnXSN_"
      },
      "source": [
        "# Divvy Bike Sharing Data Analysis\n",
        "\n",
        "This is my analysis of Divvy trip data for the Google Data Analytics certificate capstone project. My certificate can be seen [here](https://www.credly.com/badges/6e51f2de-b45a-4e2e-bff1-3da04eff93de). \n",
        "\n",
        "## Introduction\n",
        "\n",
        "Divvy ([www.divvybikes.com](https://www.divvybikes.com/)) is a bike sharing company in Chicago, IL. They have two broad categories of customers: casual members and full members. Casual members are those who rent a bike for a single trip or those who pay for a full-day pass. Full members are those who pay an annual subscription to use Divvy bikes at any time. For this analysis, I found the differences between casual members and full members for the purpose of discovering how to convert casual members to full members.\n",
        "\n",
        "## Data Retrieval and Preparation\n",
        "\n",
        "The data used in this analysis are provided for public use by Divvy according the the [Divvy Data License Agreement](https://www.divvybikes.com/data-license-agreement). The data are located [here](https://divvy-tripdata.s3.amazonaws.com/index.html). I used files ```202004-divvy-tripdata.zip``` through ```202108-divvy-tripdata.zip```. The full list of files that I used is below.\n",
        "\n",
        "```\n",
        "202004-divvy-tripdata.zip\n",
        "202005-divvy-tripdata.zip\n",
        "202006-divvy-tripdata.zip\n",
        "202007-divvy-tripdata.zip\n",
        "202008-divvy-tripdata.zip\n",
        "202009-divvy-tripdata.zip\n",
        "202010-divvy-tripdata.zip\n",
        "202011-divvy-tripdata.zip\n",
        "202012-divvy-tripdata.zip\n",
        "202101-divvy-tripdata.zip\n",
        "202102-divvy-tripdata.zip\n",
        "202103-divvy-tripdata.zip\n",
        "202104-divvy-tripdata.zip\n",
        "202105-divvy-tripdata.zip\n",
        "202106-divvy-tripdata.zip\n",
        "202107-divvy-tripdata.zip\n",
        "202108-divvy-tripdata.zip\n",
        "```\n",
        "\n",
        "Each ZIP folder contains the data in a CSV file. I combined the files into a single CSV with the following Python code, which adds ```ride_length``` and ```day_of_week``` columns to every CSV file and consequently to the final combined file. \n"
      ]
    },
    {
      "cell_type": "code",
      "metadata": {
        "id": "zDOuXV_dUSbn",
        "colab": {
          "base_uri": "https://localhost:8080/"
        },
        "outputId": "be5c2150-fcc3-47c2-b2c3-a8cd65a963c3"
      },
      "source": [
        "# retrieve and unzip data\n",
        "\n",
        "!pip install gdown\n",
        "# retrieves a ZIP of the CSV files from my Google Drive\n",
        "!gdown https://drive.google.com/uc?id=1MAUmtn4W1iUWi_UpBohJ5u7ov5kVom-t\n",
        "\n",
        "!unzip \"raw_data.zip\" -d \"raw_data\""
      ],
      "execution_count": null,
      "outputs": [
        {
          "output_type": "stream",
          "name": "stdout",
          "text": [
            "Requirement already satisfied: gdown in /usr/local/lib/python3.7/dist-packages (3.6.4)\n",
            "Requirement already satisfied: requests in /usr/local/lib/python3.7/dist-packages (from gdown) (2.23.0)\n",
            "Requirement already satisfied: tqdm in /usr/local/lib/python3.7/dist-packages (from gdown) (4.62.3)\n",
            "Requirement already satisfied: six in /usr/local/lib/python3.7/dist-packages (from gdown) (1.15.0)\n",
            "Requirement already satisfied: urllib3!=1.25.0,!=1.25.1,<1.26,>=1.21.1 in /usr/local/lib/python3.7/dist-packages (from requests->gdown) (1.24.3)\n",
            "Requirement already satisfied: chardet<4,>=3.0.2 in /usr/local/lib/python3.7/dist-packages (from requests->gdown) (3.0.4)\n",
            "Requirement already satisfied: idna<3,>=2.5 in /usr/local/lib/python3.7/dist-packages (from requests->gdown) (2.10)\n",
            "Requirement already satisfied: certifi>=2017.4.17 in /usr/local/lib/python3.7/dist-packages (from requests->gdown) (2021.5.30)\n",
            "Downloading...\n",
            "From: https://drive.google.com/uc?id=1MAUmtn4W1iUWi_UpBohJ5u7ov5kVom-t\n",
            "To: /content/raw_data.zip\n",
            "100% 272M/272M [00:04<00:00, 64.8MB/s]\n",
            "Archive:  raw_data.zip\n",
            "  inflating: raw_data/202004-divvy-tripdata.csv  \n",
            "  inflating: raw_data/202005-divvy-tripdata.csv  \n",
            "  inflating: raw_data/202006-divvy-tripdata.csv  \n",
            "  inflating: raw_data/202007-divvy-tripdata.csv  \n",
            "  inflating: raw_data/202008-divvy-tripdata.csv  \n",
            "  inflating: raw_data/202009-divvy-tripdata.csv  \n",
            "  inflating: raw_data/202010-divvy-tripdata.csv  \n",
            "  inflating: raw_data/202011-divvy-tripdata.csv  \n",
            "  inflating: raw_data/202012-divvy-tripdata.csv  \n",
            "  inflating: raw_data/202101-divvy-tripdata.csv  \n",
            "  inflating: raw_data/202102-divvy-tripdata.csv  \n",
            "  inflating: raw_data/202103-divvy-tripdata.csv  \n",
            "  inflating: raw_data/202104-divvy-tripdata.csv  \n",
            "  inflating: raw_data/202105-divvy-tripdata.csv  \n",
            "  inflating: raw_data/202106-divvy-tripdata.csv  \n",
            "  inflating: raw_data/202107-divvy-tripdata.csv  \n",
            "  inflating: raw_data/202108-divvy-tripdata.csv  \n"
          ]
        }
      ]
    },
    {
      "cell_type": "code",
      "metadata": {
        "colab": {
          "base_uri": "https://localhost:8080/"
        },
        "id": "zGFJ68kWPfoI",
        "outputId": "08ce1ecb-77f4-4eb6-e8dd-97eb7f239aff"
      },
      "source": [
        "import glob\n",
        "import pandas as pd\n",
        "\n",
        "# raw_data contains the raw data from Divvy System Data\n",
        "raw_csv = glob.glob(r'raw_data/*.csv')\n",
        "\n",
        "csv_list = []\n",
        "for csv in raw_csv:\n",
        "    csv_input = pd.read_csv(csv, header=0, index_col=0)\n",
        "    started_at = pd.to_datetime(csv_input['started_at'])\n",
        "    ended_at = pd.to_datetime(csv_input['ended_at'])\n",
        "    csv_input['ride_length'] = ended_at - started_at\n",
        "    # Monday = 0, Sunday = 6\n",
        "    csv_input['day_of_week'] = started_at.dt.dayofweek\n",
        "\n",
        "    csv_input.to_csv(csv)\n",
        "    csv_list.append(csv_input)\n",
        "    print('{} completed'.format(csv))\n",
        "\n",
        "csv_df = pd.concat(csv_list)\n",
        "csv_df.to_csv(r'raw_data/divvy-tripdata-full.csv')"
      ],
      "execution_count": null,
      "outputs": [
        {
          "output_type": "stream",
          "name": "stdout",
          "text": [
            "raw_data/202103-divvy-tripdata.csv completed\n",
            "raw_data/202108-divvy-tripdata.csv completed\n",
            "raw_data/202101-divvy-tripdata.csv completed\n",
            "raw_data/202010-divvy-tripdata.csv completed\n",
            "raw_data/202007-divvy-tripdata.csv completed\n",
            "raw_data/202004-divvy-tripdata.csv completed\n",
            "raw_data/202008-divvy-tripdata.csv completed\n",
            "raw_data/202011-divvy-tripdata.csv completed\n",
            "raw_data/202009-divvy-tripdata.csv completed\n",
            "raw_data/202005-divvy-tripdata.csv completed\n",
            "raw_data/202012-divvy-tripdata.csv completed\n",
            "raw_data/202105-divvy-tripdata.csv completed\n",
            "raw_data/202106-divvy-tripdata.csv completed\n",
            "raw_data/202102-divvy-tripdata.csv completed\n",
            "raw_data/202104-divvy-tripdata.csv completed\n",
            "raw_data/202006-divvy-tripdata.csv completed\n",
            "raw_data/202107-divvy-tripdata.csv completed\n"
          ]
        }
      ]
    },
    {
      "cell_type": "markdown",
      "metadata": {
        "id": "lJ3TR1YOVi6G"
      },
      "source": [
        "I used the CSV file ```divvy-tripdata-full.csv``` for every step of this analysis. The columns in ```divvy-tripdata-full.csv``` are:\n",
        "\n",
        "* ride_id - ID number for each ride\n",
        "* rideable_type - classic_bike, electric_bike, or docked_bike. A docked bike is one located in a docking station\n",
        "* started_at - date and time bike was unlocked\n",
        "* ended_at - date and time bike was docked\n",
        "* start_station_name - name of the station from which the bike was retrieved\n",
        "* start_station_id - ID number of the start station\n",
        "* end_station_name - name of the station to which the bike was docked\n",
        "* end_station_id - ID number of the end station\n",
        "* start_lat - latitude where bike was unlock\n",
        "* start_lng - longitude where bike was unlocked\n",
        "* end_lat - latitude where bike was docked\n",
        "* end_lng - longitude where bike was docked\n",
        "* member_casual - casusal or member. The category of customer for that particular ride\n",
        "* ride_length - duration of the ride. Difference between ended_at and started_at\n",
        "* day_of_week - day of the week the ride began, stored as an integer in [0..6], 0 for Monday, 6 for Sunday. "
      ]
    },
    {
      "cell_type": "code",
      "metadata": {
        "colab": {
          "base_uri": "https://localhost:8080/",
          "height": 428
        },
        "id": "tnyUOLhpls-I",
        "outputId": "69a04698-93cb-43fb-d05e-bfcc1891bc04"
      },
      "source": [
        "df = pd.read_csv(r\"raw_data/divvy-tripdata-full.csv\", header=0)\n",
        "\n",
        "df.head()"
      ],
      "execution_count": null,
      "outputs": [
        {
          "output_type": "stream",
          "name": "stderr",
          "text": [
            "/usr/local/lib/python3.7/dist-packages/IPython/core/interactiveshell.py:2718: DtypeWarning: Columns (5,7) have mixed types.Specify dtype option on import or set low_memory=False.\n",
            "  interactivity=interactivity, compiler=compiler, result=result)\n"
          ]
        },
        {
          "output_type": "execute_result",
          "data": {
            "text/html": [
              "<div>\n",
              "<style scoped>\n",
              "    .dataframe tbody tr th:only-of-type {\n",
              "        vertical-align: middle;\n",
              "    }\n",
              "\n",
              "    .dataframe tbody tr th {\n",
              "        vertical-align: top;\n",
              "    }\n",
              "\n",
              "    .dataframe thead th {\n",
              "        text-align: right;\n",
              "    }\n",
              "</style>\n",
              "<table border=\"1\" class=\"dataframe\">\n",
              "  <thead>\n",
              "    <tr style=\"text-align: right;\">\n",
              "      <th></th>\n",
              "      <th>ride_id</th>\n",
              "      <th>rideable_type</th>\n",
              "      <th>started_at</th>\n",
              "      <th>ended_at</th>\n",
              "      <th>start_station_name</th>\n",
              "      <th>start_station_id</th>\n",
              "      <th>end_station_name</th>\n",
              "      <th>end_station_id</th>\n",
              "      <th>start_lat</th>\n",
              "      <th>start_lng</th>\n",
              "      <th>end_lat</th>\n",
              "      <th>end_lng</th>\n",
              "      <th>member_casual</th>\n",
              "      <th>ride_length</th>\n",
              "      <th>day_of_week</th>\n",
              "    </tr>\n",
              "  </thead>\n",
              "  <tbody>\n",
              "    <tr>\n",
              "      <th>0</th>\n",
              "      <td>CFA86D4455AA1030</td>\n",
              "      <td>classic_bike</td>\n",
              "      <td>2021-03-16 08:32:30</td>\n",
              "      <td>2021-03-16 08:36:34</td>\n",
              "      <td>Humboldt Blvd &amp; Armitage Ave</td>\n",
              "      <td>15651</td>\n",
              "      <td>Stave St &amp; Armitage Ave</td>\n",
              "      <td>13266</td>\n",
              "      <td>41.917513</td>\n",
              "      <td>-87.701809</td>\n",
              "      <td>41.917741</td>\n",
              "      <td>-87.691392</td>\n",
              "      <td>casual</td>\n",
              "      <td>0 days 00:04:04</td>\n",
              "      <td>1</td>\n",
              "    </tr>\n",
              "    <tr>\n",
              "      <th>1</th>\n",
              "      <td>30D9DC61227D1AF3</td>\n",
              "      <td>classic_bike</td>\n",
              "      <td>2021-03-28 01:26:28</td>\n",
              "      <td>2021-03-28 01:36:55</td>\n",
              "      <td>Humboldt Blvd &amp; Armitage Ave</td>\n",
              "      <td>15651</td>\n",
              "      <td>Central Park Ave &amp; Bloomingdale Ave</td>\n",
              "      <td>18017</td>\n",
              "      <td>41.917513</td>\n",
              "      <td>-87.701809</td>\n",
              "      <td>41.914166</td>\n",
              "      <td>-87.716755</td>\n",
              "      <td>casual</td>\n",
              "      <td>0 days 00:10:27</td>\n",
              "      <td>6</td>\n",
              "    </tr>\n",
              "    <tr>\n",
              "      <th>2</th>\n",
              "      <td>846D87A15682A284</td>\n",
              "      <td>classic_bike</td>\n",
              "      <td>2021-03-11 21:17:29</td>\n",
              "      <td>2021-03-11 21:33:53</td>\n",
              "      <td>Shields Ave &amp; 28th Pl</td>\n",
              "      <td>15443</td>\n",
              "      <td>Halsted St &amp; 35th St</td>\n",
              "      <td>TA1308000043</td>\n",
              "      <td>41.842733</td>\n",
              "      <td>-87.635491</td>\n",
              "      <td>41.830661</td>\n",
              "      <td>-87.647172</td>\n",
              "      <td>casual</td>\n",
              "      <td>0 days 00:16:24</td>\n",
              "      <td>3</td>\n",
              "    </tr>\n",
              "    <tr>\n",
              "      <th>3</th>\n",
              "      <td>994D05AA75A168F2</td>\n",
              "      <td>classic_bike</td>\n",
              "      <td>2021-03-11 13:26:42</td>\n",
              "      <td>2021-03-11 13:55:41</td>\n",
              "      <td>Winthrop Ave &amp; Lawrence Ave</td>\n",
              "      <td>TA1308000021</td>\n",
              "      <td>Broadway &amp; Sheridan Rd</td>\n",
              "      <td>13323</td>\n",
              "      <td>41.968812</td>\n",
              "      <td>-87.657659</td>\n",
              "      <td>41.952833</td>\n",
              "      <td>-87.649993</td>\n",
              "      <td>casual</td>\n",
              "      <td>0 days 00:28:59</td>\n",
              "      <td>3</td>\n",
              "    </tr>\n",
              "    <tr>\n",
              "      <th>4</th>\n",
              "      <td>DF7464FBE92D8308</td>\n",
              "      <td>classic_bike</td>\n",
              "      <td>2021-03-21 09:09:37</td>\n",
              "      <td>2021-03-21 09:27:33</td>\n",
              "      <td>Glenwood Ave &amp; Touhy Ave</td>\n",
              "      <td>525</td>\n",
              "      <td>Chicago Ave &amp; Sheridan Rd</td>\n",
              "      <td>E008</td>\n",
              "      <td>42.012701</td>\n",
              "      <td>-87.666058</td>\n",
              "      <td>42.050491</td>\n",
              "      <td>-87.677821</td>\n",
              "      <td>casual</td>\n",
              "      <td>0 days 00:17:56</td>\n",
              "      <td>6</td>\n",
              "    </tr>\n",
              "  </tbody>\n",
              "</table>\n",
              "</div>"
            ],
            "text/plain": [
              "            ride_id rideable_type  ...      ride_length day_of_week\n",
              "0  CFA86D4455AA1030  classic_bike  ...  0 days 00:04:04           1\n",
              "1  30D9DC61227D1AF3  classic_bike  ...  0 days 00:10:27           6\n",
              "2  846D87A15682A284  classic_bike  ...  0 days 00:16:24           3\n",
              "3  994D05AA75A168F2  classic_bike  ...  0 days 00:28:59           3\n",
              "4  DF7464FBE92D8308  classic_bike  ...  0 days 00:17:56           6\n",
              "\n",
              "[5 rows x 15 columns]"
            ]
          },
          "metadata": {},
          "execution_count": 6
        }
      ]
    },
    {
      "cell_type": "markdown",
      "metadata": {
        "id": "UnBf2ys5q-k3"
      },
      "source": [
        "## Analysis\n",
        "\n",
        "I created several plots that I used to reach my conclusions. I didn't find all of them useful, but I've included them here for completeness. "
      ]
    },
    {
      "cell_type": "code",
      "metadata": {
        "colab": {
          "base_uri": "https://localhost:8080/"
        },
        "id": "f4vjdjeoEAJy",
        "outputId": "a79e79d5-40d7-4c0e-ee58-df74607e0f65"
      },
      "source": [
        "df = pd.read_csv(r\"raw_data/divvy-tripdata-full.csv\", header=0)\n",
        "member_df = df.loc[df.member_casual == 'member']\n",
        "casual_df = df.loc[df.member_casual == 'casual']"
      ],
      "execution_count": null,
      "outputs": [
        {
          "output_type": "stream",
          "name": "stderr",
          "text": [
            "/usr/local/lib/python3.7/dist-packages/IPython/core/interactiveshell.py:2718: DtypeWarning: Columns (5,7) have mixed types.Specify dtype option on import or set low_memory=False.\n",
            "  interactivity=interactivity, compiler=compiler, result=result)\n"
          ]
        }
      ]
    },
    {
      "cell_type": "code",
      "metadata": {
        "colab": {
          "base_uri": "https://localhost:8080/",
          "height": 297
        },
        "id": "gasK1XRarSv4",
        "outputId": "68e962a6-c157-4364-9e98-ca3ba6b42f2b"
      },
      "source": [
        "import matplotlib.pyplot as plt\n",
        "\n",
        "member_df_size = member_df.groupby('rideable_type')['member_casual'].size()\n",
        "casual_df_size = casual_df.groupby('rideable_type')['member_casual'].size()\n",
        "\n",
        "temp_df = pd.concat([member_df_size, casual_df_size], axis=1)\n",
        "\n",
        "ax = temp_df.plot.bar(rot=0)\n",
        "ax.legend(['full members', 'casual members'])\n",
        "ax.set_title('Casual and Full Member Bike Usage')\n",
        "plt.show()"
      ],
      "execution_count": null,
      "outputs": [
        {
          "output_type": "display_data",
          "data": {
            "image/png": "[encoded data removed]",
            "text/plain": [
              "<Figure size 432x288 with 1 Axes>"
            ]
          },
          "metadata": {
            "needs_background": "light"
          }
        }
      ]
    },
    {
      "cell_type": "markdown",
      "metadata": {
        "id": "7v5DAD4G1uyw"
      },
      "source": [
        "Marginally more casual members use classic bikes over electric bikes. I don't think the difference is enough to justify targeting one group over the other in a marketing campaign."
      ]
    },
    {
      "cell_type": "code",
      "metadata": {
        "colab": {
          "base_uri": "https://localhost:8080/",
          "height": 295
        },
        "id": "D_38j96EstT7",
        "outputId": "8522b26b-b4f1-47c8-bc26-abeefa266d4f"
      },
      "source": [
        "member_ride_length = member_df.reset_index()['ride_length']\n",
        "casual_ride_length = casual_df.reset_index()['ride_length']\n",
        "\n",
        "# round ride_length strings to minutes\n",
        "member_ride_length = pd.to_timedelta(member_ride_length).astype('timedelta64[m]')\n",
        "casual_ride_length = pd.to_timedelta(casual_ride_length).astype('timedelta64[m]')\n",
        "\n",
        "# remove outliers (>3 SDs from mean and less than 0)\n",
        "member_index = member_ride_length.index[\n",
        "    (member_ride_length > (member_ride_length.mean() + 3 * member_ride_length.std())) | (member_ride_length < 0)]\n",
        "casual_index = casual_ride_length.index[\n",
        "    (casual_ride_length > (casual_ride_length.mean() + 3 * casual_ride_length.std())) | (casual_ride_length < 0)]\n",
        "\n",
        "member_ride_length.drop(labels=member_index, inplace=True)\n",
        "casual_ride_length.drop(labels=casual_index, inplace=True)\n",
        "\n",
        "temp_df = pd.concat([member_ride_length, casual_ride_length], axis=1)\n",
        "temp_df.set_axis(['full members', 'casual members'], axis='columns', inplace=True)\n",
        "\n",
        "temp_df.plot.hist(alpha=0.25, ec='black', logy=True)\n",
        "plt.xlabel('Ride Time (minutes)')\n",
        "plt.ylabel('log(Frequency)')\n",
        "plt.title('Distribution of Casual and Full Member Ride Times')\n",
        "plt.show()"
      ],
      "execution_count": null,
      "outputs": [
        {
          "output_type": "display_data",
          "data": {
            "image/png": "[encoded data removed]",
            "text/plain": [
              "<Figure size 432x288 with 1 Axes>"
            ]
          },
          "metadata": {
            "needs_background": "light"
          }
        }
      ]
    },
    {
      "cell_type": "markdown",
      "metadata": {
        "id": "D3VIB6bC2c88"
      },
      "source": [
        "This plot shows the distribution of ride durations for all members. This information ultimately didn't contribute to my conclusion, though it shows that casual members typically take longer rides than full members, which is reinforced by a visual created later. Notice that I removed negative values (where ended_at is earlier than started_at) and outliers as defined as those values greater than three standard deviations from the mean."
      ]
    },
    {
      "cell_type": "code",
      "metadata": {
        "colab": {
          "base_uri": "https://localhost:8080/",
          "height": 281
        },
        "id": "r_UFl0GLstNz",
        "outputId": "ab8d8675-ba23-4a50-f604-7c2c65afa073"
      },
      "source": [
        "member_day_size = member_df.groupby('day_of_week')['member_casual'].size()\n",
        "casual_day_size = casual_df.groupby('day_of_week')['member_casual'].size()\n",
        "\n",
        "temp_df = pd.concat([member_day_size, casual_day_size], axis=1)\n",
        "\n",
        "temp_df.index = ['Mon', 'Tue', 'Wed', 'Thu', 'Fri', 'Sat', 'Sun']\n",
        "\n",
        "ax = temp_df.plot.bar(rot=0)\n",
        "ax.legend(['full members', 'casual members'])\n",
        "ax.set_title('Days of the Week Members Are Riding')\n",
        "plt.show()"
      ],
      "execution_count": null,
      "outputs": [
        {
          "output_type": "display_data",
          "data": {
            "image/png": "[encoded data removed]",
            "text/plain": [
              "<Figure size 432x288 with 1 Axes>"
            ]
          },
          "metadata": {
            "needs_background": "light"
          }
        }
      ]
    },
    {
      "cell_type": "markdown",
      "metadata": {
        "id": "EbqNKK4m3OWV"
      },
      "source": [
        "Some of the key differences between full members and casual members started to become clear to me with this plot. Here we see that full members use Divvy  about the same amount every day, whereas casual members have significantly lower usage than full members on weekdays with a sharp increase on the weekends. This suggests to me that casual members use Divvy mostly for leisure, or at least to reach leisurely activities. Full members, on the other hand, use Divvy more on a routine, perhaps for commute or daily exercise."
      ]
    },
    {
      "cell_type": "code",
      "metadata": {
        "colab": {
          "base_uri": "https://localhost:8080/",
          "height": 281
        },
        "id": "9s50J0j8uLCQ",
        "outputId": "41d7b0f1-7ea4-4cad-8a3a-d5099d48681a"
      },
      "source": [
        "temp_member_df = member_df.reset_index()\n",
        "temp_casual_df = casual_df.reset_index()\n",
        "\n",
        "# round ride_length strings to minutes\n",
        "temp_member_df['ride_length'] = pd.to_timedelta(temp_member_df['ride_length']).astype('timedelta64[m]')\n",
        "temp_casual_df['ride_length'] = pd.to_timedelta(temp_casual_df['ride_length']).astype('timedelta64[m]')\n",
        "\n",
        "# remove outliers (>3 SDs from mean and less than 0)\n",
        "member_index = temp_member_df['ride_length'].index[\n",
        "    (temp_member_df['ride_length'] > (temp_member_df['ride_length'].mean() + 3 * temp_member_df['ride_length'].std())) | (temp_member_df['ride_length'] < 0)]\n",
        "casual_index = temp_casual_df['ride_length'].index[\n",
        "    (temp_casual_df['ride_length'] > (temp_casual_df['ride_length'].mean() + 3 * temp_casual_df['ride_length'].std())) | (temp_casual_df['ride_length'] < 0)]\n",
        "\n",
        "temp_member_df.drop(labels=member_index, inplace=True)\n",
        "temp_casual_df.drop(labels=casual_index, inplace=True)\n",
        "\n",
        "member_ride_length = temp_member_df.groupby('day_of_week')['ride_length'].mean()\n",
        "casual_ride_length = temp_casual_df.groupby('day_of_week')['ride_length'].mean()\n",
        "\n",
        "temp_df = pd.concat([member_ride_length, casual_ride_length], axis=1)\n",
        "\n",
        "temp_df.index = ['Mon', 'Tue', 'Wed', 'Thu', 'Fri', 'Sat', 'Sun']\n",
        "\n",
        "ax = temp_df.plot.bar(rot=0, ylabel='Ride Time (minutes)', legend=True)\n",
        "ax.legend(['full members', 'casual members'])\n",
        "ax.set_title('How Long Members Are Riding Per Day')\n",
        "plt.show()"
      ],
      "execution_count": null,
      "outputs": [
        {
          "output_type": "display_data",
          "data": {
            "image/png": "[encoded data removed]",
            "text/plain": [
              "<Figure size 432x288 with 1 Axes>"
            ]
          },
          "metadata": {
            "needs_background": "light"
          }
        }
      ]
    },
    {
      "cell_type": "markdown",
      "metadata": {
        "id": "uh-VPsBK4Rx8"
      },
      "source": [
        "Here we see that full members typically take rides lasting from 10 to 15 minutes, but casual members takes rides lasting from 25 to 30 minutes for each day of the week. Full member ride times are quite steady from day to day, whereas casual member ride times dip in the middle of the week and increase on the weekend. The ride times themselves aren't very informative, but the trend in ride times reinforces the idea that full members use Divvy on a routine basis, for the same trip day after day, and casual members ride more erratically, which again suggest that they're using Divvy for leisure. Again, I removed outliers and negative values. "
      ]
    },
    {
      "cell_type": "code",
      "metadata": {
        "colab": {
          "base_uri": "https://localhost:8080/",
          "height": 296
        },
        "id": "RtDNDXltvmZq",
        "outputId": "f018331d-9f57-4883-9991-a30d20739a99"
      },
      "source": [
        "temp_member_df = member_df.reset_index()\n",
        "temp_casual_df = casual_df.reset_index()\n",
        "\n",
        "temp_member_df['started_at'] = pd.to_datetime(temp_member_df['started_at']).dt.hour\n",
        "temp_casual_df['started_at'] = pd.to_datetime(temp_casual_df['started_at']).dt.hour\n",
        "\n",
        "member_df_size = temp_member_df.groupby('started_at')['member_casual'].size()\n",
        "casual_df_size = temp_casual_df.groupby('started_at')['member_casual'].size()\n",
        "\n",
        "temp_df = pd.concat([member_df_size, casual_df_size], axis=1)\n",
        "\n",
        "ax = temp_df.plot.bar(rot=0)\n",
        "ax.legend(['full members', 'casual members'])\n",
        "ax.set_title('Time of Day Members Are Riding')\n",
        "plt.xlabel('started_at (hour of day)')\n",
        "plt.show()"
      ],
      "execution_count": null,
      "outputs": [
        {
          "output_type": "display_data",
          "data": {
            "image/png": "[encoded data removed]",
            "text/plain": [
              "<Figure size 432x288 with 1 Axes>"
            ]
          },
          "metadata": {
            "needs_background": "light"
          }
        }
      ]
    },
    {
      "cell_type": "markdown",
      "metadata": {
        "id": "DEDdcbkj7JqC"
      },
      "source": [
        "This plot shows the most common hour of the day that members begin their rides. We see both casual and full members peak in usage at 5:00pm (17), though full members have a smaller peak in the morning, from  around 7:00am to 9:00am. Again, this suggests that casual members use Divvy leisurely--in the late afternoon when most people are off work--and full members use Divvy more routinely, during both morning and afternoon commute times. The higher peak at 5:00pm suggests that full members also use Divvy for leisurely activities. \n",
        "\n",
        "NB: I didn't clean start times corresponding to negative ```ride_length``` values (potentially invalid start times) to create this chart because, according to the below SQLite query, there are 10,461 negative ```ride_length``` values, which is just 0.16% of the total of 6,714,968. \n",
        "\n",
        "```sql\n",
        "SELECT \n",
        "\tCOUNT(*),\n",
        "\t(SELECT COUNT(ride_length)\n",
        "\tFROM \"divvy-tripdata\"\n",
        "\tWHERE ride_length LIKE '-% days %') AS negative_days\n",
        "FROM \"divvy-tripdata\"\n",
        "```"
      ]
    },
    {
      "cell_type": "code",
      "metadata": {
        "colab": {
          "base_uri": "https://localhost:8080/",
          "height": 281
        },
        "id": "v7XyOTHZv7b3",
        "outputId": "0c5b83ac-c467-495d-9965-389605d815a8"
      },
      "source": [
        "temp_member_df = member_df.reset_index()\n",
        "temp_casual_df = casual_df.reset_index()\n",
        "\n",
        "temp_member_df['started_at'] = pd.to_datetime(temp_member_df['started_at']).dt.hour\n",
        "temp_casual_df['started_at'] = pd.to_datetime(temp_casual_df['started_at']).dt.hour\n",
        "\n",
        "member_df_time = temp_member_df.groupby('day_of_week')['started_at'].value_counts()\n",
        "casual_df_time = temp_casual_df.groupby('day_of_week')['started_at'].value_counts()\n",
        "\n",
        "max_list = []\n",
        "for i in range(7):\n",
        "    max_list.append([member_df_time[i].idxmax(), casual_df_time[i].idxmax()])\n",
        "\n",
        "temp_df = pd.DataFrame(max_list, columns=['full members', 'casual members'])\n",
        "temp_df.index = ['Mon', 'Tue', 'Wed', 'Thu', 'Fri', 'Sat', 'Sun']\n",
        "\n",
        "ax = temp_df.plot.bar(rot=0)\n",
        "ax.legend(['full members', 'casual members'])\n",
        "ax.set_title('Most Common Start Time for Each Day')\n",
        "plt.ylabel('started_at (hour of day)')\n",
        "ax.set_ylim(0, 23)\n",
        "plt.yticks(range(23))\n",
        "plt.show()"
      ],
      "execution_count": null,
      "outputs": [
        {
          "output_type": "display_data",
          "data": {
            "image/png": "[encoded data removed]",
            "text/plain": [
              "<Figure size 432x288 with 1 Axes>"
            ]
          },
          "metadata": {
            "needs_background": "light"
          }
        }
      ]
    },
    {
      "cell_type": "markdown",
      "metadata": {
        "id": "USWXwdf19S45"
      },
      "source": [
        "This plot is a complement to the previous one. We also see that both casual and full members ride a bit earlier on the weekends."
      ]
    },
    {
      "cell_type": "code",
      "metadata": {
        "colab": {
          "base_uri": "https://localhost:8080/",
          "height": 281
        },
        "id": "-PRxOASTwOaJ",
        "outputId": "77ec2f6e-8a5e-4470-8d7b-9391ec77fdf2"
      },
      "source": [
        "temp_member_df = member_df.reset_index()\n",
        "temp_casual_df = casual_df.reset_index()\n",
        "\n",
        "temp_member_df['ended_at'] = pd.to_datetime(temp_member_df['ended_at']).dt.hour\n",
        "temp_casual_df['ended_at'] = pd.to_datetime(temp_casual_df['ended_at']).dt.hour\n",
        "\n",
        "member_df_time = temp_member_df.groupby('day_of_week')['ended_at'].value_counts()\n",
        "casual_df_time = temp_casual_df.groupby('day_of_week')['ended_at'].value_counts()\n",
        "\n",
        "max_list = []\n",
        "for i in range(7):\n",
        "  max_list.append([member_df_time[i].idxmax(), casual_df_time[i].idxmax()])\n",
        "\n",
        "temp_df = pd.DataFrame(max_list, columns=['full members', 'casual members'])\n",
        "temp_df.index = ['Mon', 'Tue', 'Wed', 'Thu', 'Fri', 'Sat', 'Sun']\n",
        "\n",
        "ax = temp_df.plot.bar(rot=0)\n",
        "ax.legend(['full members', 'casual members'])\n",
        "ax.set_title('Most Common End Time for Each Day')\n",
        "plt.ylabel('ended_at (hour of day)')\n",
        "ax.set_ylim(0, 23)\n",
        "plt.yticks(range(23))\n",
        "plt.show()"
      ],
      "execution_count": null,
      "outputs": [
        {
          "output_type": "display_data",
          "data": {
            "image/png": "[encoded data removed]",
            "text/plain": [
              "<Figure size 432x288 with 1 Axes>"
            ]
          },
          "metadata": {
            "needs_background": "light"
          }
        }
      ]
    },
    {
      "cell_type": "markdown",
      "metadata": {
        "id": "IEX1yB7o9ffq"
      },
      "source": [
        "This plot shows the most common hour when members finish their rides. "
      ]
    },
    {
      "cell_type": "code",
      "metadata": {
        "colab": {
          "base_uri": "https://localhost:8080/",
          "height": 297
        },
        "id": "i0TwGazcveCf",
        "outputId": "b5761466-5e07-42b7-9dcb-905d2878cd95"
      },
      "source": [
        "n = 15\n",
        "\n",
        "casual_df_size_start = casual_df.groupby('start_station_name')['member_casual'].size().nlargest(n)\n",
        "casual_df_size_start = pd.DataFrame(casual_df_size_start)\n",
        "\n",
        "ax = casual_df_size_start.plot.barh()\n",
        "ax.set_title('{} Stations Most Popular With Casual Members'.format(n))\n",
        "plt.tight_layout()\n",
        "plt.show()"
      ],
      "execution_count": null,
      "outputs": [
        {
          "output_type": "display_data",
          "data": {
            "image/png": "[encoded data removed]",
            "text/plain": [
              "<Figure size 432x288 with 1 Axes>"
            ]
          },
          "metadata": {
            "needs_background": "light"
          }
        }
      ]
    },
    {
      "cell_type": "markdown",
      "metadata": {
        "id": "DCIkuhpm-M97"
      },
      "source": [
        "Finally, this plot shows the top 15 most popular stations with casual members. These are the physical locations where advertisement campaigns to convert casual members to full members should be focused. To see more or fewer stations, change the value of ```n``` in the above code block."
      ]
    },
    {
      "cell_type": "markdown",
      "metadata": {
        "id": "sUsT-6_J_8iV"
      },
      "source": [
        "### Information I Didn't Include\n",
        "\n",
        "I considered showing the distance that members rode using the coordinates given in the data. However, I ultimately decided against it because all distance information would be either Euclidian distance, geodesic distance given by something such as ```geopy.distance.distance()``` ([documentation](https://geopy.readthedocs.io/en/stable/#module-geopy.distance)), or a similar distance formula, and therefore would not take into account the riders' routes. In this case, I think ride time is much more informative. In addition, it doesn't account for instances where the start station is the same as the end station (of which there are 585,054 instances, according to a SQLite query), or for leisurely rides, where I don't imagine members are always taking a direct route."
      ]
    },
    {
      "cell_type": "markdown",
      "metadata": {
        "id": "TZkclefp3jUc"
      },
      "source": [
        "## Conclusions\n",
        "\n",
        "As stated above when analyzing the data, I think that casual members are, broadly speaking, using Divvy for non-routine trips and full members are using Divvy for routine trips. An advertising campaign could show casual members that one can use Divvy for routine activities as well as leisure activites while explaining that a subscription is the most cost effective option for routine rides. Other factors such as the environmental impact of driving or taking public transport vs. biking could be emphasized as well. \n",
        "\n",
        "### More Data\n",
        "\n",
        "The Divvy data does not include information on individual riders. Anonymized rider data would give us further insight because I believe repeat casual customers is a key demographic in more accurately answering the question of how to convert casual members into full members. Other very useful data would be route information. However, this would require significant overhead because Divvy would have to outfit each bike with a GPS unit and they'd have to implement a system to store the GPS data."
      ]
    }
  ]
}